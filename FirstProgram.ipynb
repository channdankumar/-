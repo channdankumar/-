{
  "nbformat": 4,
  "nbformat_minor": 0,
  "metadata": {
    "colab": {
      "provenance": [],
      "authorship_tag": "ABX9TyPCCeolxxn19RZ95tjyNR2x",
      "include_colab_link": true
    },
    "kernelspec": {
      "name": "python3",
      "display_name": "Python 3"
    },
    "language_info": {
      "name": "python"
    }
  },
  "cells": [
    {
      "cell_type": "markdown",
      "metadata": {
        "id": "view-in-github",
        "colab_type": "text"
      },
      "source": [
        "<a href=\"https://colab.research.google.com/github/channdankumar/-/blob/main/FirstProgram.ipynb\" target=\"_parent\"><img src=\"https://colab.research.google.com/assets/colab-badge.svg\" alt=\"Open In Colab\"/></a>"
      ]
    },
    {
      "cell_type": "markdown",
      "source": [
        "1st Program (Output)"
      ],
      "metadata": {
        "id": "JgHfqwMLaJHj"
      }
    },
    {
      "cell_type": "code",
      "execution_count": 2,
      "metadata": {
        "colab": {
          "base_uri": "https://localhost:8080/"
        },
        "id": "9U5-pfnHYjAU",
        "outputId": "03182210-a14d-4de1-d6d1-336448800766"
      },
      "outputs": [
        {
          "output_type": "stream",
          "name": "stdout",
          "text": [
            "Hello World\n"
          ]
        }
      ],
      "source": [
        "print (\"Hello World\")"
      ]
    },
    {
      "cell_type": "markdown",
      "source": [
        "Variable (Basic Types in Python - numbers(integers, floating, boolean, strings)"
      ],
      "metadata": {
        "id": "Mkom0o_Cab8E"
      }
    },
    {
      "cell_type": "code",
      "source": [
        "name = \"chandan\"\n",
        "age = 24\n",
        "print (\"name\")"
      ],
      "metadata": {
        "colab": {
          "base_uri": "https://localhost:8080/"
        },
        "id": "8BfdipQ1ZH6d",
        "outputId": "18548389-f42b-4537-827f-3b345abe01b5"
      },
      "execution_count": 3,
      "outputs": [
        {
          "output_type": "stream",
          "name": "stdout",
          "text": [
            "name\n"
          ]
        }
      ]
    },
    {
      "cell_type": "code",
      "source": [
        "name = \"chandan\"\n",
        "age = 24\n",
        "print (name)\n",
        "print (age)"
      ],
      "metadata": {
        "colab": {
          "base_uri": "https://localhost:8080/"
        },
        "id": "P8p7DXR8bJpW",
        "outputId": "3b053a42-0345-405b-ff70-acd958fd2572"
      },
      "execution_count": 6,
      "outputs": [
        {
          "output_type": "stream",
          "name": "stdout",
          "text": [
            "chandan\n",
            "24\n"
          ]
        }
      ]
    },
    {
      "cell_type": "code",
      "source": [
        "first_name = \"chandan \"\n",
        "last_name = \"yadav\"\n",
        "age = 24\n",
        "is_adult = True\n",
        "print(first_name + \" \" + last_name)\n",
        "print(age)\n",
        "print(is_adult)\n"
      ],
      "metadata": {
        "colab": {
          "base_uri": "https://localhost:8080/"
        },
        "id": "etNOMOMfieKW",
        "outputId": "8f53c99a-c8e3-40fb-9bba-61b5b2597e34"
      },
      "execution_count": 17,
      "outputs": [
        {
          "output_type": "stream",
          "name": "stdout",
          "text": [
            "chandan  yadav\n",
            "24\n",
            "True\n"
          ]
        }
      ]
    },
    {
      "cell_type": "markdown",
      "source": [
        "Strings"
      ],
      "metadata": {
        "id": "eeJuMiQgv4HO"
      }
    },
    {
      "cell_type": "code",
      "source": [
        "name = \"chandan\"\n",
        "print(name.upper())"
      ],
      "metadata": {
        "colab": {
          "base_uri": "https://localhost:8080/"
        },
        "id": "POO6VMv6yZCV",
        "outputId": "e6d5dbe7-6174-4231-dc84-47c162c67139"
      },
      "execution_count": 23,
      "outputs": [
        {
          "output_type": "stream",
          "name": "stdout",
          "text": [
            "CHANDAN\n"
          ]
        }
      ]
    },
    {
      "cell_type": "code",
      "source": [
        "name = \"chandan\"\n",
        "print(name.lower())"
      ],
      "metadata": {
        "colab": {
          "base_uri": "https://localhost:8080/"
        },
        "id": "ba4B-9n5y3oY",
        "outputId": "f5c3b2fe-3601-4202-971b-4a476cb96e49"
      },
      "execution_count": 24,
      "outputs": [
        {
          "output_type": "stream",
          "name": "stdout",
          "text": [
            "chandan\n"
          ]
        }
      ]
    },
    {
      "cell_type": "markdown",
      "source": [
        "Find Operation"
      ],
      "metadata": {
        "id": "KtGKyEpszLJa"
      }
    },
    {
      "cell_type": "code",
      "source": [
        "name = \"Chandan Kumar \"\n",
        "print (name.find('K'))"
      ],
      "metadata": {
        "colab": {
          "base_uri": "https://localhost:8080/"
        },
        "id": "gNwEYPfuzD4a",
        "outputId": "a987880e-d1c3-4db3-eeba-5d3345d33fae"
      },
      "execution_count": 46,
      "outputs": [
        {
          "output_type": "stream",
          "name": "stdout",
          "text": [
            "8\n"
          ]
        }
      ]
    },
    {
      "cell_type": "markdown",
      "source": [
        "Replace"
      ],
      "metadata": {
        "id": "-TQhgyon1DHv"
      }
    },
    {
      "cell_type": "code",
      "source": [
        "name = \"Chandan Kumar \"\n",
        "print (name.replace(\"Chandan Kumar\", \"Chandan Yadav\"))\n"
      ],
      "metadata": {
        "colab": {
          "base_uri": "https://localhost:8080/"
        },
        "id": "jhgrxoO10bpS",
        "outputId": "d6504efa-2b33-4d98-9e93-3439a3e88e81"
      },
      "execution_count": 30,
      "outputs": [
        {
          "output_type": "stream",
          "name": "stdout",
          "text": [
            "Chandan Yadav \n"
          ]
        }
      ]
    },
    {
      "cell_type": "markdown",
      "source": [
        "Keyword"
      ],
      "metadata": {
        "id": "TzZxAiA71wDg"
      }
    },
    {
      "cell_type": "code",
      "source": [
        "name = \"Chandan Kumar\"\n",
        "print(\"C\" in name)"
      ],
      "metadata": {
        "colab": {
          "base_uri": "https://localhost:8080/"
        },
        "id": "GEh-4yRT1FpS",
        "outputId": "da6da75a-3d3c-40d9-ea88-5da015524fd4"
      },
      "execution_count": 56,
      "outputs": [
        {
          "output_type": "stream",
          "name": "stdout",
          "text": [
            "True\n"
          ]
        }
      ]
    },
    {
      "cell_type": "markdown",
      "source": [
        "Arithmatic Operation"
      ],
      "metadata": {
        "id": "ZajHT7UT2WE-"
      }
    },
    {
      "cell_type": "code",
      "source": [
        "print (5+2)"
      ],
      "metadata": {
        "colab": {
          "base_uri": "https://localhost:8080/"
        },
        "id": "gUWxTSWE2cod",
        "outputId": "301e998e-bf39-496c-a136-6ac7d6e964e8"
      },
      "execution_count": 33,
      "outputs": [
        {
          "output_type": "stream",
          "name": "stdout",
          "text": [
            "7\n"
          ]
        }
      ]
    },
    {
      "cell_type": "code",
      "source": [
        "print (5-2)"
      ],
      "metadata": {
        "colab": {
          "base_uri": "https://localhost:8080/"
        },
        "id": "93AEdocf25bg",
        "outputId": "cc2fa12f-f750-460c-f5c3-7e2e26b6725b"
      },
      "execution_count": 34,
      "outputs": [
        {
          "output_type": "stream",
          "name": "stdout",
          "text": [
            "3\n"
          ]
        }
      ]
    },
    {
      "cell_type": "code",
      "source": [
        "print(5/2)"
      ],
      "metadata": {
        "colab": {
          "base_uri": "https://localhost:8080/"
        },
        "id": "3uDVyaCEHoaf",
        "outputId": "d018ab69-15f2-4024-85ad-0be23d288e6e"
      },
      "execution_count": 57,
      "outputs": [
        {
          "output_type": "stream",
          "name": "stdout",
          "text": [
            "2.5\n"
          ]
        }
      ]
    },
    {
      "cell_type": "code",
      "source": [
        "print(5//2)"
      ],
      "metadata": {
        "colab": {
          "base_uri": "https://localhost:8080/"
        },
        "id": "QTC9zEF3HwG3",
        "outputId": "9aa33944-9ef1-4610-a516-b09e71cd5246"
      },
      "execution_count": 58,
      "outputs": [
        {
          "output_type": "stream",
          "name": "stdout",
          "text": [
            "2\n"
          ]
        }
      ]
    },
    {
      "cell_type": "code",
      "source": [
        "print(5%2) #modulo"
      ],
      "metadata": {
        "colab": {
          "base_uri": "https://localhost:8080/"
        },
        "id": "W4KHT0zWH4jA",
        "outputId": "a97159c5-dea8-4c85-f2a6-d9ea6246a6db"
      },
      "execution_count": 59,
      "outputs": [
        {
          "output_type": "stream",
          "name": "stdout",
          "text": [
            "1\n"
          ]
        }
      ]
    },
    {
      "cell_type": "code",
      "source": [
        "print(5**2) # squere root"
      ],
      "metadata": {
        "colab": {
          "base_uri": "https://localhost:8080/"
        },
        "id": "RNeTIl_DIU_H",
        "outputId": "1c5929a4-3aef-4e2d-8a89-1ad3892f1cf8"
      },
      "execution_count": 60,
      "outputs": [
        {
          "output_type": "stream",
          "name": "stdout",
          "text": [
            "25\n"
          ]
        }
      ]
    },
    {
      "cell_type": "markdown",
      "source": [
        "Concatinate"
      ],
      "metadata": {
        "id": "SUO4Gk_377k1"
      }
    },
    {
      "cell_type": "code",
      "source": [
        "fname = input(\"What is your name \")\n",
        "lname = input(\"What is your name \")\n",
        "age = input(\"What is your age \")\n",
        "location = input(\"What is your location \")\n",
        "print(\"I am \"+fname+\" \"+lname+\". My age is \"+age+\". Location= \"+location)"
      ],
      "metadata": {
        "colab": {
          "base_uri": "https://localhost:8080/"
        },
        "id": "r-7Tak-64S__",
        "outputId": "1b5b17f2-0c16-4fb3-c44c-317bcf7a5f80"
      },
      "execution_count": 41,
      "outputs": [
        {
          "output_type": "stream",
          "name": "stdout",
          "text": [
            "What is your name Chandan\n",
            "What is your name Kumar\n",
            "What is your age 24\n",
            "What is your location Muzaffarfur , Bihar\n",
            "I am Chandan Kumar. My age is 24. Location= Muzaffarfur , Bihar\n"
          ]
        }
      ]
    },
    {
      "cell_type": "code",
      "source": [
        "room = input(\"Room Colour\")\n",
        "elements = input(\"Features of Room\")\n",
        "print(\"The colour of my room is \"+room+\". \"+\"The basic features - \"+elements)\n"
      ],
      "metadata": {
        "colab": {
          "base_uri": "https://localhost:8080/"
        },
        "id": "TJcNA2j24-Md",
        "outputId": "06a29bc6-9635-4115-eadb-75bd1fd8f5e5"
      },
      "execution_count": 48,
      "outputs": [
        {
          "output_type": "stream",
          "name": "stdout",
          "text": [
            "Room ColourPink\n",
            "Features of RoomTables, Fans\n",
            "The colour of my room is Pink. The basic features - Tables, Fans\n"
          ]
        }
      ]
    },
    {
      "cell_type": "code",
      "source": [
        "product = input(\"Best Product\")\n",
        "uses = input(\"uses of Product\")\n",
        "print(\"The best Product is \"+product+\". \"+\"For the uses of - \"+uses )"
      ],
      "metadata": {
        "colab": {
          "base_uri": "https://localhost:8080/"
        },
        "id": "JKkDt4KkBJub",
        "outputId": "2094a5b0-971c-4b70-8dae-855bfb82d26e"
      },
      "execution_count": 52,
      "outputs": [
        {
          "output_type": "stream",
          "name": "stdout",
          "text": [
            "Best ProductZofer\n",
            "uses of ProductVomiting\n",
            "The best Product is Zofer. For the uses of - Vomiting\n"
          ]
        }
      ]
    },
    {
      "cell_type": "code",
      "source": [
        "first = input(\"enter first number : \")\n",
        "second = input(\"enter second name : \")\n",
        "sum = (first) + (second)\n",
        "print(sum)"
      ],
      "metadata": {
        "colab": {
          "base_uri": "https://localhost:8080/"
        },
        "id": "eMPfSnudDs-7",
        "outputId": "0b7fc3f6-5110-45cd-cb07-c58331311531"
      },
      "execution_count": 53,
      "outputs": [
        {
          "output_type": "stream",
          "name": "stdout",
          "text": [
            "enter first number : 4\n",
            "enter second name : 5\n",
            "45\n"
          ]
        }
      ]
    },
    {
      "cell_type": "code",
      "source": [
        "first = input(\"enter first number : \")\n",
        "second = input(\"enter second name : \")\n",
        "sum = int(first) + int(second)\n",
        "print(sum)"
      ],
      "metadata": {
        "colab": {
          "base_uri": "https://localhost:8080/"
        },
        "id": "TeTrtWnWG_SP",
        "outputId": "05bc52b0-dcc9-4187-b938-ba0a81dd44c5"
      },
      "execution_count": 54,
      "outputs": [
        {
          "output_type": "stream",
          "name": "stdout",
          "text": [
            "enter first number : 4\n",
            "enter second name : 5\n",
            "9\n"
          ]
        }
      ]
    },
    {
      "cell_type": "markdown",
      "source": [
        "Operator Precedence"
      ],
      "metadata": {
        "id": "hWjkjwLFJmD_"
      }
    },
    {
      "cell_type": "code",
      "source": [
        "result = 3+3*5\n",
        "print(result)"
      ],
      "metadata": {
        "colab": {
          "base_uri": "https://localhost:8080/"
        },
        "id": "c0ltQdOMHIhi",
        "outputId": "b86ae460-b19b-4d7d-e592-d926cf4a4835"
      },
      "execution_count": 1,
      "outputs": [
        {
          "output_type": "stream",
          "name": "stdout",
          "text": [
            "18\n"
          ]
        }
      ]
    },
    {
      "cell_type": "code",
      "source": [
        "result = (2+3)*5\n",
        "print(result)"
      ],
      "metadata": {
        "colab": {
          "base_uri": "https://localhost:8080/"
        },
        "id": "eT-OcnNRKayF",
        "outputId": "f69dab32-d52a-4de0-a6be-f364561dd713"
      },
      "execution_count": 64,
      "outputs": [
        {
          "output_type": "stream",
          "name": "stdout",
          "text": [
            "25\n"
          ]
        }
      ]
    },
    {
      "cell_type": "markdown",
      "source": [
        "Comments (#)"
      ],
      "metadata": {
        "id": "Y_JqPpaJK0X0"
      }
    },
    {
      "cell_type": "code",
      "source": [
        " # here is a comment"
      ],
      "metadata": {
        "id": "UL-cGKamKuTv"
      },
      "execution_count": 65,
      "outputs": []
    },
    {
      "cell_type": "markdown",
      "source": [
        "Comparsion Operators"
      ],
      "metadata": {
        "id": "ZsjoD5OlLdBf"
      }
    },
    {
      "cell_type": "code",
      "source": [
        "print(3>2)"
      ],
      "metadata": {
        "colab": {
          "base_uri": "https://localhost:8080/"
        },
        "id": "7VrVCH05LQsC",
        "outputId": "77b03bc6-c35a-4843-a41c-1e0dd7a24a09"
      },
      "execution_count": 66,
      "outputs": [
        {
          "output_type": "stream",
          "name": "stdout",
          "text": [
            "True\n"
          ]
        }
      ]
    },
    {
      "cell_type": "code",
      "source": [
        "print(3<=2)"
      ],
      "metadata": {
        "colab": {
          "base_uri": "https://localhost:8080/"
        },
        "id": "vJHNlyW3Lr5V",
        "outputId": "285b4f93-57d7-4c0a-fd02-90191d86d92d"
      },
      "execution_count": 68,
      "outputs": [
        {
          "output_type": "stream",
          "name": "stdout",
          "text": [
            "False\n"
          ]
        }
      ]
    },
    {
      "cell_type": "code",
      "source": [
        "print(3==2)"
      ],
      "metadata": {
        "colab": {
          "base_uri": "https://localhost:8080/"
        },
        "id": "YB5VCcg5Lx1X",
        "outputId": "b3810ae5-7644-44ab-d93e-dffdb02fd503"
      },
      "execution_count": 69,
      "outputs": [
        {
          "output_type": "stream",
          "name": "stdout",
          "text": [
            "False\n"
          ]
        }
      ]
    },
    {
      "cell_type": "markdown",
      "source": [
        "Logical Operators (3 types of operators)"
      ],
      "metadata": {
        "id": "5XJ7wFitMdy3"
      }
    },
    {
      "cell_type": "code",
      "source": [
        "print(2>3 or 2>1)"
      ],
      "metadata": {
        "colab": {
          "base_uri": "https://localhost:8080/"
        },
        "id": "jZA8cGzTL8e7",
        "outputId": "1dcd93cd-d1c5-460a-a1aa-c5ffb2f201d2"
      },
      "execution_count": 70,
      "outputs": [
        {
          "output_type": "stream",
          "name": "stdout",
          "text": [
            "True\n"
          ]
        }
      ]
    },
    {
      "cell_type": "code",
      "source": [
        "print(3>2 and 2>1)"
      ],
      "metadata": {
        "colab": {
          "base_uri": "https://localhost:8080/"
        },
        "id": "TuU4QQvMNAWv",
        "outputId": "99e08c08-978f-4456-f09a-23bd9dd0d463"
      },
      "execution_count": 71,
      "outputs": [
        {
          "output_type": "stream",
          "name": "stdout",
          "text": [
            "True\n"
          ]
        }
      ]
    },
    {
      "cell_type": "code",
      "source": [
        "print(not 3>2)"
      ],
      "metadata": {
        "colab": {
          "base_uri": "https://localhost:8080/"
        },
        "id": "H9wyaLTrNHob",
        "outputId": "6323fcb4-279b-4a07-ab07-c608e94b2127"
      },
      "execution_count": 73,
      "outputs": [
        {
          "output_type": "stream",
          "name": "stdout",
          "text": [
            "False\n"
          ]
        }
      ]
    },
    {
      "cell_type": "markdown",
      "source": [
        "if - else Statement  ( use of Conditions)"
      ],
      "metadata": {
        "id": "IOfT2SYvNcD5"
      }
    },
    {
      "cell_type": "code",
      "source": [
        "age = 19\n",
        "if age >=18:\n",
        "  print(\"you are an adult\")\n",
        "  print(\"you can vote\")"
      ],
      "metadata": {
        "colab": {
          "base_uri": "https://localhost:8080/"
        },
        "id": "DowPCmv2Njj0",
        "outputId": "0d533f9b-9747-4dc9-c093-97a95ccd95a2"
      },
      "execution_count": 74,
      "outputs": [
        {
          "output_type": "stream",
          "name": "stdout",
          "text": [
            "you are an adult\n",
            "you can vote\n"
          ]
        }
      ]
    },
    {
      "cell_type": "code",
      "source": [
        "age = 16\n",
        "\n",
        "if age >= 18:\n",
        "    print(\"You are an adult\")\n",
        "    print(\"You can vote\")\n",
        "elif age < 18 and age > 3:\n",
        "    print(\"You are in school\")\n",
        "else:\n",
        "    print(\"You are a child\")\n"
      ],
      "metadata": {
        "colab": {
          "base_uri": "https://localhost:8080/"
        },
        "id": "JaIkcZnIO8oy",
        "outputId": "61e31b04-f863-4472-94d5-fb5cf97075e8"
      },
      "execution_count": 84,
      "outputs": [
        {
          "output_type": "stream",
          "name": "stdout",
          "text": [
            "You are in school\n"
          ]
        }
      ]
    },
    {
      "cell_type": "markdown",
      "source": [
        "Mini Calculator"
      ],
      "metadata": {
        "id": "--hCgJhoLqnY"
      }
    },
    {
      "cell_type": "code",
      "source": [
        "first = input(\"Enter first number: \")\n",
        "operator = input(\"Enter operator (+, -, *, /, %): \")\n",
        "second = input(\"Enter second number: \")\n",
        "\n",
        "first = int(first)\n",
        "second = int(second)\n",
        "\n",
        "if operator == \"+\":\n",
        "    print(first + second)\n",
        "elif operator == \"-\":\n",
        "    print(first - second)\n",
        "elif operator == \"*\":\n",
        "    print(first * second)\n",
        "elif operator == \"/\":\n",
        "    if second != 0:  # Check for division by zero\n",
        "        print(first / second)\n",
        "    else:\n",
        "        print(\"Division by zero is not allowed\")\n",
        "elif operator == \"%\":\n",
        "    print(first % second)\n",
        "else:\n",
        "    print(\"Invalid operator. Please use +, -, *, /, or %\")\n",
        "\n"
      ],
      "metadata": {
        "colab": {
          "base_uri": "https://localhost:8080/"
        },
        "id": "L4Bf3CPXIDyn",
        "outputId": "2347a260-532c-4aa6-dc4c-a370b9329d49"
      },
      "execution_count": 7,
      "outputs": [
        {
          "output_type": "stream",
          "name": "stdout",
          "text": [
            "Enter first number: 5\n",
            "Enter operator (+, -, *, /, %): +\n",
            "Enter second number: 4\n",
            "9\n"
          ]
        }
      ]
    },
    {
      "cell_type": "markdown",
      "source": [
        "Range"
      ],
      "metadata": {
        "id": "mLxi3Q84L-b6"
      }
    },
    {
      "cell_type": "code",
      "source": [
        "numbers = range(5)\n",
        "print(numbers)"
      ],
      "metadata": {
        "colab": {
          "base_uri": "https://localhost:8080/"
        },
        "id": "1m7Bo7ECIITG",
        "outputId": "42424e8f-b8b6-491e-ac1b-b79abf0eb1f0"
      },
      "execution_count": 1,
      "outputs": [
        {
          "output_type": "stream",
          "name": "stdout",
          "text": [
            "range(0, 5)\n"
          ]
        }
      ]
    },
    {
      "cell_type": "markdown",
      "source": [
        "While loops"
      ],
      "metadata": {
        "id": "oALLHWsB5HFv"
      }
    },
    {
      "cell_type": "code",
      "source": [
        "i = 1\n",
        "while i <= 5:\n",
        "  print(i)\n",
        "  i = i + 1"
      ],
      "metadata": {
        "colab": {
          "base_uri": "https://localhost:8080/"
        },
        "id": "1sbd8Cea5GsA",
        "outputId": "431e314c-3c76-4786-e6a9-76b76971be75"
      },
      "execution_count": 2,
      "outputs": [
        {
          "output_type": "stream",
          "name": "stdout",
          "text": [
            "1\n",
            "2\n",
            "3\n",
            "4\n",
            "5\n"
          ]
        }
      ]
    },
    {
      "cell_type": "code",
      "source": [
        "i = 1\n",
        "while i <= 100:\n",
        "  print(i)\n",
        "  i = i + 1"
      ],
      "metadata": {
        "colab": {
          "base_uri": "https://localhost:8080/"
        },
        "id": "n8R2lloK5y8h",
        "outputId": "a2239dce-b86f-4ccd-9d2a-f67a854fd685"
      },
      "execution_count": 3,
      "outputs": [
        {
          "output_type": "stream",
          "name": "stdout",
          "text": [
            "1\n",
            "2\n",
            "3\n",
            "4\n",
            "5\n",
            "6\n",
            "7\n",
            "8\n",
            "9\n",
            "10\n",
            "11\n",
            "12\n",
            "13\n",
            "14\n",
            "15\n",
            "16\n",
            "17\n",
            "18\n",
            "19\n",
            "20\n",
            "21\n",
            "22\n",
            "23\n",
            "24\n",
            "25\n",
            "26\n",
            "27\n",
            "28\n",
            "29\n",
            "30\n",
            "31\n",
            "32\n",
            "33\n",
            "34\n",
            "35\n",
            "36\n",
            "37\n",
            "38\n",
            "39\n",
            "40\n",
            "41\n",
            "42\n",
            "43\n",
            "44\n",
            "45\n",
            "46\n",
            "47\n",
            "48\n",
            "49\n",
            "50\n",
            "51\n",
            "52\n",
            "53\n",
            "54\n",
            "55\n",
            "56\n",
            "57\n",
            "58\n",
            "59\n",
            "60\n",
            "61\n",
            "62\n",
            "63\n",
            "64\n",
            "65\n",
            "66\n",
            "67\n",
            "68\n",
            "69\n",
            "70\n",
            "71\n",
            "72\n",
            "73\n",
            "74\n",
            "75\n",
            "76\n",
            "77\n",
            "78\n",
            "79\n",
            "80\n",
            "81\n",
            "82\n",
            "83\n",
            "84\n",
            "85\n",
            "86\n",
            "87\n",
            "88\n",
            "89\n",
            "90\n",
            "91\n",
            "92\n",
            "93\n",
            "94\n",
            "95\n",
            "96\n",
            "97\n",
            "98\n",
            "99\n",
            "100\n"
          ]
        }
      ]
    },
    {
      "cell_type": "code",
      "source": [
        "i = 1\n",
        "while i <= 5:\n",
        "  print(i * \"*\")\n",
        "  i = i + 1"
      ],
      "metadata": {
        "colab": {
          "base_uri": "https://localhost:8080/"
        },
        "id": "zwEd8pSU6cgS",
        "outputId": "8b7bbc1f-43d2-4c72-b627-93136d9181c3"
      },
      "execution_count": 4,
      "outputs": [
        {
          "output_type": "stream",
          "name": "stdout",
          "text": [
            "*\n",
            "**\n",
            "***\n",
            "****\n",
            "*****\n"
          ]
        }
      ]
    },
    {
      "cell_type": "code",
      "source": [
        "i = 5\n",
        "while i >= 0:\n",
        "  print(i * \"*\")\n",
        "  i = i - 1"
      ],
      "metadata": {
        "colab": {
          "base_uri": "https://localhost:8080/"
        },
        "id": "hSzkPCVq7FaP",
        "outputId": "a1e827f2-a0f1-4c38-ab5a-f508b8a294c8"
      },
      "execution_count": 5,
      "outputs": [
        {
          "output_type": "stream",
          "name": "stdout",
          "text": [
            "*****\n",
            "****\n",
            "***\n",
            "**\n",
            "*\n",
            "\n"
          ]
        }
      ]
    },
    {
      "cell_type": "markdown",
      "source": [
        "For Loops"
      ],
      "metadata": {
        "id": "7SKrbeon7UGr"
      }
    },
    {
      "cell_type": "code",
      "source": [
        "for i in range(5):\n",
        "    print(i)"
      ],
      "metadata": {
        "colab": {
          "base_uri": "https://localhost:8080/"
        },
        "id": "KsGTnv5l7PMz",
        "outputId": "b4566cf4-ae5e-4282-865e-37dd2255f8b5"
      },
      "execution_count": 8,
      "outputs": [
        {
          "output_type": "stream",
          "name": "stdout",
          "text": [
            "0\n",
            "1\n",
            "2\n",
            "3\n",
            "4\n"
          ]
        }
      ]
    },
    {
      "cell_type": "code",
      "source": [
        "for item in range (5) :\n",
        "    print(item + 1)"
      ],
      "metadata": {
        "colab": {
          "base_uri": "https://localhost:8080/"
        },
        "id": "24908UAQ8Ury",
        "outputId": "35c3bf37-0194-497e-cde8-f009dd8c255c"
      },
      "execution_count": 10,
      "outputs": [
        {
          "output_type": "stream",
          "name": "stdout",
          "text": [
            "1\n",
            "2\n",
            "3\n",
            "4\n",
            "5\n"
          ]
        }
      ]
    },
    {
      "cell_type": "markdown",
      "source": [
        "List"
      ],
      "metadata": {
        "id": "AiYGdmaz9i_u"
      }
    },
    {
      "cell_type": "code",
      "source": [
        "marks = [96,98,97]\n",
        "print(marks)"
      ],
      "metadata": {
        "colab": {
          "base_uri": "https://localhost:8080/"
        },
        "id": "C2jr4by_9k-r",
        "outputId": "dcbef320-44c0-453d-dbe6-5ec795fe25e9"
      },
      "execution_count": 11,
      "outputs": [
        {
          "output_type": "stream",
          "name": "stdout",
          "text": [
            "[96, 98, 97]\n"
          ]
        }
      ]
    },
    {
      "cell_type": "code",
      "source": [
        "marks = [98,95,97]\n",
        "for score in marks:\n",
        "  print(score)"
      ],
      "metadata": {
        "colab": {
          "base_uri": "https://localhost:8080/"
        },
        "id": "p4fFAr7w90BZ",
        "outputId": "4c0c9942-bebd-430b-f127-ca8b86f5dbd2"
      },
      "execution_count": 1,
      "outputs": [
        {
          "output_type": "stream",
          "name": "stdout",
          "text": [
            "98\n",
            "95\n",
            "97\n"
          ]
        }
      ]
    },
    {
      "cell_type": "code",
      "source": [
        "marks = [98,95,97]\n",
        "marks.append(99)\n",
        "print(marks)"
      ],
      "metadata": {
        "colab": {
          "base_uri": "https://localhost:8080/"
        },
        "id": "M6HucirFqEqv",
        "outputId": "314fd596-f610-4d0a-861c-b84c279e23db"
      },
      "execution_count": 2,
      "outputs": [
        {
          "output_type": "stream",
          "name": "stdout",
          "text": [
            "[98, 95, 97, 99]\n"
          ]
        }
      ]
    },
    {
      "cell_type": "code",
      "source": [
        "marks = [98,95,97]\n",
        "marks.append(99)\n",
        "print(marks)"
      ],
      "metadata": {
        "colab": {
          "base_uri": "https://localhost:8080/"
        },
        "id": "_3Wl-skTqmFw",
        "outputId": "58f2ad08-3113-4c95-9052-f6b9b63cabce"
      },
      "execution_count": 3,
      "outputs": [
        {
          "output_type": "stream",
          "name": "stdout",
          "text": [
            "[99, 98, 95, 97]\n"
          ]
        }
      ]
    },
    {
      "cell_type": "code",
      "source": [
        "marks = [98,95,97]\n",
        "marks.append(99)\n",
        "print(98 in marks)"
      ],
      "metadata": {
        "colab": {
          "base_uri": "https://localhost:8080/"
        },
        "id": "FxBsIM_aq5Oz",
        "outputId": "425cd234-2bea-427c-e691-a78ad7322e14"
      },
      "execution_count": 4,
      "outputs": [
        {
          "output_type": "stream",
          "name": "stdout",
          "text": [
            "True\n"
          ]
        }
      ]
    },
    {
      "cell_type": "code",
      "source": [
        "marks = [98,95,97]\n",
        "marks.append(99)\n",
        "print(93 in marks)"
      ],
      "metadata": {
        "colab": {
          "base_uri": "https://localhost:8080/"
        },
        "id": "SoZo7MjRrKyY",
        "outputId": "df43e5d8-3a57-401b-814c-dfe54e935501"
      },
      "execution_count": 5,
      "outputs": [
        {
          "output_type": "stream",
          "name": "stdout",
          "text": [
            "False\n"
          ]
        }
      ]
    },
    {
      "cell_type": "markdown",
      "source": [
        "Break & Continue"
      ],
      "metadata": {
        "id": "npAGx6Mkrlyt"
      }
    },
    {
      "cell_type": "code",
      "source": [
        "students = [\"Chandan\", \"Dev\", \"Harsh\", \"Rahul\", \"Gaurav\"]\n",
        "\n",
        "for student in students:\n",
        "  if student == \"Rahul\":\n",
        "    print(student)\n",
        "    break\n",
        "\n"
      ],
      "metadata": {
        "colab": {
          "base_uri": "https://localhost:8080/"
        },
        "id": "fNZPFrtOwMbP",
        "outputId": "c607533b-f90e-4762-b585-09b67668e92a"
      },
      "execution_count": 26,
      "outputs": [
        {
          "output_type": "stream",
          "name": "stdout",
          "text": [
            "Rahul\n"
          ]
        }
      ]
    },
    {
      "cell_type": "code",
      "source": [
        "students = [\"Chandan\", \"Dev\", \"Harsh\", \"Rahul\", \"Gaurav\"]\n",
        "\n",
        "for student in students:\n",
        "  if student == \"Harsh\":\n",
        "    continue\n",
        "  print(student)\n"
      ],
      "metadata": {
        "colab": {
          "base_uri": "https://localhost:8080/"
        },
        "id": "P_Sju7NHvRsi",
        "outputId": "17aee7ff-7247-4393-a93d-7830e2e7a920"
      },
      "execution_count": 24,
      "outputs": [
        {
          "output_type": "stream",
          "name": "stdout",
          "text": [
            "Chandan\n",
            "Dev\n",
            "Rahul\n",
            "Gaurav\n"
          ]
        }
      ]
    },
    {
      "cell_type": "markdown",
      "source": [
        "Tuple"
      ],
      "metadata": {
        "id": "5X3NVz2swZ7r"
      }
    },
    {
      "cell_type": "code",
      "source": [
        "marks = (98,97,96)\n",
        "print(marks.count(98))"
      ],
      "metadata": {
        "colab": {
          "base_uri": "https://localhost:8080/"
        },
        "id": "s-UWLImjwbtM",
        "outputId": "3feeff60-ee8d-4301-aa2f-c0f9fd8d985c"
      },
      "execution_count": 27,
      "outputs": [
        {
          "output_type": "stream",
          "name": "stdout",
          "text": [
            "1\n"
          ]
        }
      ]
    },
    {
      "cell_type": "code",
      "source": [
        "marks = (98,97,96,96,96,96)\n",
        "print(marks.count(96))"
      ],
      "metadata": {
        "colab": {
          "base_uri": "https://localhost:8080/"
        },
        "id": "i63b56_-x410",
        "outputId": "285bdd5f-3207-424e-86c2-f643b693fcbb"
      },
      "execution_count": 28,
      "outputs": [
        {
          "output_type": "stream",
          "name": "stdout",
          "text": [
            "4\n"
          ]
        }
      ]
    },
    {
      "cell_type": "markdown",
      "source": [
        "Set"
      ],
      "metadata": {
        "id": "8FdAic9ayzHp"
      }
    },
    {
      "cell_type": "code",
      "source": [
        "marks = {98,97,96,97,97}\n",
        "\n",
        "for score in marks:\n",
        "      print (score)"
      ],
      "metadata": {
        "colab": {
          "base_uri": "https://localhost:8080/"
        },
        "id": "3R_HnvCPyyPJ",
        "outputId": "65412fba-c273-40fe-a6df-593c85f184ee"
      },
      "execution_count": 36,
      "outputs": [
        {
          "output_type": "stream",
          "name": "stdout",
          "text": [
            "96\n",
            "97\n",
            "98\n"
          ]
        }
      ]
    },
    {
      "cell_type": "markdown",
      "source": [
        "Dictionary"
      ],
      "metadata": {
        "id": "pAQP5Qdz0J3Q"
      }
    },
    {
      "cell_type": "code",
      "source": [
        "marks = {\"engkish\": 98, \"hindi\" : 97}\n",
        "print(marks[\"engkish\"])"
      ],
      "metadata": {
        "colab": {
          "base_uri": "https://localhost:8080/"
        },
        "id": "I6VsAn5E0DA_",
        "outputId": "372f7b70-c9c3-4e5e-dbf9-a0e73d90baa1"
      },
      "execution_count": 37,
      "outputs": [
        {
          "output_type": "stream",
          "name": "stdout",
          "text": [
            "98\n"
          ]
        }
      ]
    },
    {
      "cell_type": "code",
      "source": [],
      "metadata": {
        "id": "vmWiOw7X0_YI"
      },
      "execution_count": null,
      "outputs": []
    }
  ]
}